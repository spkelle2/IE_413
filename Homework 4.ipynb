{
 "cells": [
  {
   "cell_type": "code",
   "execution_count": 1,
   "metadata": {
    "collapsed": true
   },
   "outputs": [],
   "source": [
    "import pandas as pd\n",
    "import numpy as np"
   ]
  },
  {
   "cell_type": "code",
   "execution_count": 2,
   "metadata": {
    "collapsed": true
   },
   "outputs": [],
   "source": [
    "df = pd.read_csv('RANDOM.csv')"
   ]
  },
  {
   "cell_type": "code",
   "execution_count": 6,
   "metadata": {
    "collapsed": false
   },
   "outputs": [
    {
     "data": {
      "text/html": [
       "<div>\n",
       "<table border=\"1\" class=\"dataframe\">\n",
       "  <thead>\n",
       "    <tr style=\"text-align: right;\">\n",
       "      <th></th>\n",
       "      <th>Time</th>\n",
       "      <th>Event</th>\n",
       "      <th>Count</th>\n",
       "      <th>VALUE[IN]</th>\n",
       "      <th>ID</th>\n",
       "      <th>Unnamed: 5</th>\n",
       "    </tr>\n",
       "  </thead>\n",
       "  <tbody>\n",
       "    <tr>\n",
       "      <th>0</th>\n",
       "      <td>0.0</td>\n",
       "      <td>A</td>\n",
       "      <td>1.0</td>\n",
       "      <td>0.000</td>\n",
       "      <td>0.0</td>\n",
       "      <td>NaN</td>\n",
       "    </tr>\n",
       "    <tr>\n",
       "      <th>1</th>\n",
       "      <td>1.0</td>\n",
       "      <td>B</td>\n",
       "      <td>1.0</td>\n",
       "      <td>0.096</td>\n",
       "      <td>1.0</td>\n",
       "      <td>NaN</td>\n",
       "    </tr>\n",
       "    <tr>\n",
       "      <th>2</th>\n",
       "      <td>2.0</td>\n",
       "      <td>B</td>\n",
       "      <td>2.0</td>\n",
       "      <td>0.833</td>\n",
       "      <td>2.0</td>\n",
       "      <td>NaN</td>\n",
       "    </tr>\n",
       "    <tr>\n",
       "      <th>3</th>\n",
       "      <td>3.0</td>\n",
       "      <td>B</td>\n",
       "      <td>3.0</td>\n",
       "      <td>0.947</td>\n",
       "      <td>3.0</td>\n",
       "      <td>NaN</td>\n",
       "    </tr>\n",
       "    <tr>\n",
       "      <th>4</th>\n",
       "      <td>4.0</td>\n",
       "      <td>B</td>\n",
       "      <td>4.0</td>\n",
       "      <td>0.035</td>\n",
       "      <td>4.0</td>\n",
       "      <td>NaN</td>\n",
       "    </tr>\n",
       "  </tbody>\n",
       "</table>\n",
       "</div>"
      ],
      "text/plain": [
       "   Time Event  Count  VALUE[IN]   ID  Unnamed: 5\n",
       "0   0.0     A    1.0      0.000  0.0         NaN\n",
       "1   1.0     B    1.0      0.096  1.0         NaN\n",
       "2   2.0     B    2.0      0.833  2.0         NaN\n",
       "3   3.0     B    3.0      0.947  3.0         NaN\n",
       "4   4.0     B    4.0      0.035  4.0         NaN"
      ]
     },
     "execution_count": 6,
     "metadata": {},
     "output_type": "execute_result"
    }
   ],
   "source": [
    "df.head(5)"
   ]
  },
  {
   "cell_type": "code",
   "execution_count": 7,
   "metadata": {
    "collapsed": true
   },
   "outputs": [],
   "source": [
    "# x is our U[0,1] and a subset of VALUE[IN]\n",
    "x = df['VALUE[IN]'].values[1:-1]"
   ]
  },
  {
   "cell_type": "code",
   "execution_count": 11,
   "metadata": {
    "collapsed": false
   },
   "outputs": [
    {
     "data": {
      "text/plain": [
       "1000"
      ]
     },
     "execution_count": 11,
     "metadata": {},
     "output_type": "execute_result"
    }
   ],
   "source": [
    "n = len(x)\n",
    "n"
   ]
  },
  {
   "cell_type": "code",
   "execution_count": 9,
   "metadata": {
    "collapsed": false
   },
   "outputs": [
    {
     "data": {
      "text/plain": [
       "0.49072699999999997"
      ]
     },
     "execution_count": 9,
     "metadata": {},
     "output_type": "execute_result"
    }
   ],
   "source": [
    "x.mean()"
   ]
  },
  {
   "cell_type": "code",
   "execution_count": 10,
   "metadata": {
    "collapsed": false
   },
   "outputs": [
    {
     "data": {
      "text/plain": [
       "0.28647867367572055"
      ]
     },
     "execution_count": 10,
     "metadata": {},
     "output_type": "execute_result"
    }
   ],
   "source": [
    "x.std()"
   ]
  },
  {
   "cell_type": "code",
   "execution_count": 40,
   "metadata": {
    "collapsed": true
   },
   "outputs": [],
   "source": [
    "# 20 intervals each of length .05\n",
    "k = 20"
   ]
  },
  {
   "cell_type": "code",
   "execution_count": 48,
   "metadata": {
    "collapsed": false
   },
   "outputs": [
    {
     "data": {
      "text/plain": [
       "array([ 0.  ,  0.05,  0.1 ,  0.15,  0.2 ,  0.25,  0.3 ,  0.35,  0.4 ,\n",
       "        0.45,  0.5 ,  0.55,  0.6 ,  0.65,  0.7 ,  0.75,  0.8 ,  0.85,\n",
       "        0.9 ,  0.95,  1.  ])"
      ]
     },
     "execution_count": 48,
     "metadata": {},
     "output_type": "execute_result"
    }
   ],
   "source": [
    "# between each entry is 1 bin (21 entries => 20 bins)\n",
    "bins = np.arange(k+1)/float(k)\n",
    "bins"
   ]
  },
  {
   "cell_type": "code",
   "execution_count": 41,
   "metadata": {
    "collapsed": true
   },
   "outputs": [
    {
     "data": {
      "text/plain": [
       "array([ 2, 17, 19,  1,  1,  2, 16, 12, 19, 16,  7,  4,  6, 16, 20,  3,  7,\n",
       "        1,  6,  4, 18,  5, 19,  5, 19, 19,  7, 13, 11,  4, 19,  7, 20, 19,\n",
       "       19,  2, 19, 18,  8,  3, 14, 12,  5,  4, 20,  7, 11, 15, 13, 10,  8,\n",
       "       12,  7, 15,  3, 11,  2, 12,  4, 14, 19,  7, 13, 10,  2,  3, 12,  2,\n",
       "        3,  9,  5,  5, 12,  2, 15, 12,  8,  6, 18,  4,  9, 13, 18, 20, 11,\n",
       "       15, 14,  5,  7,  9, 16, 11,  6,  8,  6, 13,  3,  9, 15,  1,  1,  9,\n",
       "       13, 10, 14,  2, 14,  1, 16, 15, 19, 14,  7,  4, 16, 20,  7,  9,  2,\n",
       "        3,  6, 16,  1, 10, 16, 15,  7, 14,  4,  1, 18, 14, 18,  5, 18, 10,\n",
       "        7,  6, 17, 13, 18, 11, 13, 19, 19,  5, 16, 14, 11, 15, 10, 15, 18,\n",
       "        1,  3,  7,  6, 15,  2, 19, 13, 12,  2,  3,  6,  4,  3,  5, 15,  7,\n",
       "       11,  7, 18,  7,  6,  3, 20, 19,  1, 16, 18, 13,  9, 11, 12,  5, 12,\n",
       "       13, 17,  7, 15,  1, 18, 16, 18,  9, 13,  4, 11, 18, 10, 15,  7,  6,\n",
       "       19, 13, 11, 14, 18,  4, 12,  5,  6, 15,  2, 13, 18,  4, 10, 14,  2,\n",
       "       20, 15, 17,  4,  1, 10, 18, 11, 17,  7,  6,  1,  8, 11, 14, 15,  4,\n",
       "       15, 10,  4,  9, 14,  2, 18,  5,  2,  5,  8, 17,  7, 18,  1, 20,  5,\n",
       "       16,  8, 11, 20, 13, 13,  8,  5,  2, 13,  2,  1,  5, 14,  1,  9,  9,\n",
       "       15, 10, 17,  9,  9, 17,  6,  5, 11, 14,  2,  1, 17, 11, 11,  2, 10,\n",
       "       12,  1,  4,  2, 15, 16, 15, 13, 12,  5,  9,  3,  1,  5, 14, 16, 20,\n",
       "        9,  7, 10, 16, 19, 20,  1, 15, 15,  9, 18,  1,  7, 10, 16,  3, 19,\n",
       "        3, 14, 19,  2,  7, 15, 17,  9,  9, 17, 12, 19, 16, 18,  4, 10, 14,\n",
       "        4,  3, 11, 14, 18, 20,  7,  7, 14,  2,  4,  9, 13, 13,  8, 13,  8,\n",
       "        9,  9,  2, 20, 12,  3, 12,  2, 17,  7, 15, 19, 18, 15,  6,  3, 13,\n",
       "        9,  6,  3,  7, 20, 18, 10,  4, 12,  9,  5, 11,  7, 12,  5,  6,  1,\n",
       "       16, 14,  6,  4, 13,  6, 20,  5,  8,  7, 13,  1, 12, 16,  4, 14,  5,\n",
       "       19,  1,  8,  8,  6,  5,  8,  9, 20, 12, 18, 15, 14, 10, 14,  6, 19,\n",
       "       12, 20, 17, 13, 13, 20,  8, 11,  2, 17, 10, 14,  8, 18, 16, 18,  9,\n",
       "        8,  5,  7,  7,  2,  6,  1,  8, 20, 13,  2, 10,  5,  8,  3, 11,  3,\n",
       "        9,  2, 16,  9, 17,  1,  3,  8, 13,  2,  1,  7,  9,  1,  9,  2, 19,\n",
       "       11,  3,  5, 20,  7, 20, 17, 20,  9, 15, 13,  4, 20, 15, 19, 11, 13,\n",
       "        4,  7, 20,  9, 10,  7, 13,  2, 15,  4, 19,  9,  8, 20,  5,  2,  7,\n",
       "        9,  7,  5, 17, 13, 11,  7, 11,  7, 18, 20,  5, 14, 17,  5,  6,  6,\n",
       "        4,  1, 15, 19, 14, 16, 19,  2, 10,  6, 19, 13,  5,  2, 11,  6, 18,\n",
       "       19, 13, 15,  6,  9, 11, 17, 19, 19, 12,  4, 19,  4, 18, 18,  5, 14,\n",
       "        8, 11,  4, 17,  6, 19,  5, 12, 14,  2,  6, 19, 19,  1, 16, 15, 13,\n",
       "       13, 18,  5, 12, 20,  8,  3, 15, 17, 19, 19,  2, 14, 16, 11, 15, 20,\n",
       "       19, 19, 18, 15,  3, 15,  7, 14,  9,  2, 16,  8,  6,  7, 13, 14,  6,\n",
       "        5, 14,  7, 19, 20, 11, 13, 20,  8,  1, 12, 15, 20, 12, 19,  4, 12,\n",
       "       14,  1,  9, 20,  5, 11, 10, 17, 10, 16, 18,  8, 19,  8, 10, 12,  4,\n",
       "        5,  6, 11,  3,  8, 12,  2, 19,  4, 16,  6, 12, 11,  3,  5,  1,  9,\n",
       "       10, 10,  1,  8, 16,  8,  2,  4,  7, 11,  8, 10,  4, 20,  3, 12, 12,\n",
       "        4,  7,  3, 18,  4, 18, 20,  5, 16,  5,  3, 15,  3, 10,  6, 10, 15,\n",
       "       15, 17,  3, 12,  1,  7,  4, 17,  1, 16, 12, 14, 17,  5, 18,  7, 17,\n",
       "        6,  3, 15,  7,  1,  4, 14, 15, 17,  2, 17,  9,  2,  4, 19, 11, 14,\n",
       "        5,  8, 18,  2, 18, 15,  1, 12, 17,  4, 11,  1,  9, 19, 14, 16, 12,\n",
       "       17, 19,  9,  3,  5, 10,  8, 16, 14, 17,  8,  1, 10,  1,  9, 17,  9,\n",
       "       16,  6, 17, 19,  5, 10, 19, 18, 13,  4,  7, 13, 16, 10, 13,  9,  1,\n",
       "       12, 11, 15, 13,  7, 19,  5,  5,  7, 10, 20, 12,  3, 11,  5, 10, 16,\n",
       "       14,  7, 15, 15,  1, 19, 17,  7, 17,  8, 15,  8,  9,  4,  6, 14, 20,\n",
       "       18,  2,  6, 12,  8, 20, 11,  5, 19,  8,  9,  2,  9,  2,  6, 16, 13,\n",
       "       12,  1, 10, 18,  1,  9,  3, 18,  8,  2, 10, 11,  7, 10,  5,  3,  8,\n",
       "       16, 17, 20,  8,  9, 10, 12,  9,  7,  6, 14, 20,  1, 16,  4, 12,  5,\n",
       "       20,  4,  5,  5,  6,  9,  9,  9, 16,  3,  4, 18, 10, 15, 13, 17, 16,\n",
       "       12,  5, 13, 17,  7,  2,  7,  3, 13, 18,  4, 20,  6,  2, 12, 10,  8,\n",
       "        1,  8, 16, 18,  7,  3, 20,  9, 16, 20, 13,  5, 12,  7, 15,  8,  8,\n",
       "       13,  8,  4, 12, 17,  6,  1,  9,  7, 17, 10,  9,  2, 19, 13, 20,  1,\n",
       "       15, 11,  3, 16, 14,  5, 11,  4,  9,  5, 13, 18, 14, 12,  8, 17, 10,\n",
       "       12,  6,  9,  4, 14, 15, 19,  4, 10,  1,  5,  1, 20,  7,  4, 11, 12,\n",
       "        7, 11,  7, 15, 18,  5, 16,  6,  7,  8,  4, 19,  1, 18, 15,  3,  2,\n",
       "        7, 10,  8,  7, 13,  2, 10,  1, 15,  8, 11, 10,  9, 14])"
      ]
     },
     "execution_count": 41,
     "metadata": {},
     "output_type": "execute_result"
    }
   ],
   "source": [
    "# determine which interval each x falls into\n",
    "binplace = np.digitize(x, bins)\n",
    "binplace"
   ]
  },
  {
   "cell_type": "code",
   "execution_count": 39,
   "metadata": {
    "collapsed": false
   },
   "outputs": [
    {
     "data": {
      "text/plain": [
       "array([53, 51, 41, 52, 59, 45, 65, 50, 58, 47, 45, 49, 51, 46, 54, 44, 41,\n",
       "       49, 55, 45])"
      ]
     },
     "execution_count": 39,
     "metadata": {},
     "output_type": "execute_result"
    }
   ],
   "source": [
    "# how many observations in each interval\n",
    "f = np.bincount(binplace)[1:]\n",
    "f"
   ]
  },
  {
   "cell_type": "code",
   "execution_count": 44,
   "metadata": {
    "collapsed": false
   },
   "outputs": [
    {
     "data": {
      "text/plain": [
       "array([ 0.18,  0.02,  1.62,  0.08,  1.62,  0.5 ,  4.5 ,  0.  ,  1.28,\n",
       "        0.18,  0.5 ,  0.02,  0.02,  0.32,  0.32,  0.72,  1.62,  0.02,\n",
       "        0.5 ,  0.5 ])"
      ]
     },
     "execution_count": 44,
     "metadata": {},
     "output_type": "execute_result"
    }
   ],
   "source": [
    "(f-n/k)**2/float(n/k)"
   ]
  },
  {
   "cell_type": "code",
   "execution_count": 47,
   "metadata": {
    "collapsed": false
   },
   "outputs": [
    {
     "data": {
      "text/plain": [
       "14.52"
      ]
     },
     "execution_count": 47,
     "metadata": {},
     "output_type": "execute_result"
    }
   ],
   "source": [
    "# chi-squared value\n",
    "X2 = ((f-n/k)**2/float(n/k)).sum()\n",
    "X2"
   ]
  },
  {
   "cell_type": "markdown",
   "metadata": {},
   "source": [
    "$H_{0}$: LCG is U[0,1]\n",
    "\n",
    "$H_{1}$: LCG is not U[0,1]\n",
    "\n",
    "For $\\alpha$ = .05 and k-1 degrees of freedom \n",
    "\n",
    "X2 = 14.52 $\\geq$ $\\chi^{2}_{1-\\alpha, k-1}$ = 10.12\n",
    "\n",
    "therefore, we reject $H_{0}$, the LCG is not U[0,1]"
   ]
  },
  {
   "cell_type": "markdown",
   "metadata": {},
   "source": [
    "Seed was 12345"
   ]
  },
  {
   "cell_type": "code",
   "execution_count": null,
   "metadata": {
    "collapsed": true
   },
   "outputs": [],
   "source": []
  }
 ],
 "metadata": {
  "kernelspec": {
   "display_name": "Python 2",
   "language": "python",
   "name": "python2"
  },
  "language_info": {
   "codemirror_mode": {
    "name": "ipython",
    "version": 2
   },
   "file_extension": ".py",
   "mimetype": "text/x-python",
   "name": "python",
   "nbconvert_exporter": "python",
   "pygments_lexer": "ipython2",
   "version": "2.7.6"
  }
 },
 "nbformat": 4,
 "nbformat_minor": 1
}
