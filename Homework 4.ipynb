{
 "cells": [
  {
   "cell_type": "code",
   "execution_count": 1,
   "metadata": {
    "collapsed": true
   },
   "outputs": [],
   "source": [
    "import pandas as pd\n",
    "import numpy as np"
   ]
  },
  {
   "cell_type": "markdown",
   "metadata": {},
   "source": [
    "## Question 1"
   ]
  },
  {
   "cell_type": "markdown",
   "metadata": {},
   "source": [
    "### Part A"
   ]
  },
  {
   "cell_type": "code",
   "execution_count": 2,
   "metadata": {
    "collapsed": true
   },
   "outputs": [],
   "source": [
    "df = pd.read_csv('RANDOM.csv')"
   ]
  },
  {
   "cell_type": "code",
   "execution_count": 3,
   "metadata": {
    "collapsed": false
   },
   "outputs": [
    {
     "data": {
      "text/html": [
       "<div>\n",
       "<table border=\"1\" class=\"dataframe\">\n",
       "  <thead>\n",
       "    <tr style=\"text-align: right;\">\n",
       "      <th></th>\n",
       "      <th>Time</th>\n",
       "      <th>Event</th>\n",
       "      <th>Count</th>\n",
       "      <th>VALUE[IN]</th>\n",
       "      <th>ID</th>\n",
       "      <th>Unnamed: 5</th>\n",
       "    </tr>\n",
       "  </thead>\n",
       "  <tbody>\n",
       "    <tr>\n",
       "      <th>0</th>\n",
       "      <td>0.0</td>\n",
       "      <td>A</td>\n",
       "      <td>1.0</td>\n",
       "      <td>0.000</td>\n",
       "      <td>0.0</td>\n",
       "      <td>NaN</td>\n",
       "    </tr>\n",
       "    <tr>\n",
       "      <th>1</th>\n",
       "      <td>1.0</td>\n",
       "      <td>B</td>\n",
       "      <td>1.0</td>\n",
       "      <td>0.096</td>\n",
       "      <td>1.0</td>\n",
       "      <td>NaN</td>\n",
       "    </tr>\n",
       "    <tr>\n",
       "      <th>2</th>\n",
       "      <td>2.0</td>\n",
       "      <td>B</td>\n",
       "      <td>2.0</td>\n",
       "      <td>0.833</td>\n",
       "      <td>2.0</td>\n",
       "      <td>NaN</td>\n",
       "    </tr>\n",
       "    <tr>\n",
       "      <th>3</th>\n",
       "      <td>3.0</td>\n",
       "      <td>B</td>\n",
       "      <td>3.0</td>\n",
       "      <td>0.947</td>\n",
       "      <td>3.0</td>\n",
       "      <td>NaN</td>\n",
       "    </tr>\n",
       "    <tr>\n",
       "      <th>4</th>\n",
       "      <td>4.0</td>\n",
       "      <td>B</td>\n",
       "      <td>4.0</td>\n",
       "      <td>0.035</td>\n",
       "      <td>4.0</td>\n",
       "      <td>NaN</td>\n",
       "    </tr>\n",
       "    <tr>\n",
       "      <th>5</th>\n",
       "      <td>5.0</td>\n",
       "      <td>B</td>\n",
       "      <td>5.0</td>\n",
       "      <td>0.011</td>\n",
       "      <td>5.0</td>\n",
       "      <td>NaN</td>\n",
       "    </tr>\n",
       "    <tr>\n",
       "      <th>6</th>\n",
       "      <td>6.0</td>\n",
       "      <td>B</td>\n",
       "      <td>6.0</td>\n",
       "      <td>0.051</td>\n",
       "      <td>6.0</td>\n",
       "      <td>NaN</td>\n",
       "    </tr>\n",
       "    <tr>\n",
       "      <th>7</th>\n",
       "      <td>7.0</td>\n",
       "      <td>B</td>\n",
       "      <td>7.0</td>\n",
       "      <td>0.765</td>\n",
       "      <td>7.0</td>\n",
       "      <td>NaN</td>\n",
       "    </tr>\n",
       "    <tr>\n",
       "      <th>8</th>\n",
       "      <td>8.0</td>\n",
       "      <td>B</td>\n",
       "      <td>8.0</td>\n",
       "      <td>0.584</td>\n",
       "      <td>8.0</td>\n",
       "      <td>NaN</td>\n",
       "    </tr>\n",
       "    <tr>\n",
       "      <th>9</th>\n",
       "      <td>9.0</td>\n",
       "      <td>B</td>\n",
       "      <td>9.0</td>\n",
       "      <td>0.914</td>\n",
       "      <td>9.0</td>\n",
       "      <td>NaN</td>\n",
       "    </tr>\n",
       "    <tr>\n",
       "      <th>10</th>\n",
       "      <td>10.0</td>\n",
       "      <td>B</td>\n",
       "      <td>10.0</td>\n",
       "      <td>0.783</td>\n",
       "      <td>10.0</td>\n",
       "      <td>NaN</td>\n",
       "    </tr>\n",
       "    <tr>\n",
       "      <th>11</th>\n",
       "      <td>11.0</td>\n",
       "      <td>B</td>\n",
       "      <td>11.0</td>\n",
       "      <td>0.333</td>\n",
       "      <td>11.0</td>\n",
       "      <td>NaN</td>\n",
       "    </tr>\n",
       "    <tr>\n",
       "      <th>12</th>\n",
       "      <td>12.0</td>\n",
       "      <td>B</td>\n",
       "      <td>12.0</td>\n",
       "      <td>0.195</td>\n",
       "      <td>12.0</td>\n",
       "      <td>NaN</td>\n",
       "    </tr>\n",
       "    <tr>\n",
       "      <th>13</th>\n",
       "      <td>13.0</td>\n",
       "      <td>B</td>\n",
       "      <td>13.0</td>\n",
       "      <td>0.267</td>\n",
       "      <td>13.0</td>\n",
       "      <td>NaN</td>\n",
       "    </tr>\n",
       "    <tr>\n",
       "      <th>14</th>\n",
       "      <td>14.0</td>\n",
       "      <td>B</td>\n",
       "      <td>14.0</td>\n",
       "      <td>0.792</td>\n",
       "      <td>14.0</td>\n",
       "      <td>NaN</td>\n",
       "    </tr>\n",
       "    <tr>\n",
       "      <th>15</th>\n",
       "      <td>15.0</td>\n",
       "      <td>B</td>\n",
       "      <td>15.0</td>\n",
       "      <td>0.983</td>\n",
       "      <td>15.0</td>\n",
       "      <td>NaN</td>\n",
       "    </tr>\n",
       "    <tr>\n",
       "      <th>16</th>\n",
       "      <td>16.0</td>\n",
       "      <td>B</td>\n",
       "      <td>16.0</td>\n",
       "      <td>0.148</td>\n",
       "      <td>16.0</td>\n",
       "      <td>NaN</td>\n",
       "    </tr>\n",
       "    <tr>\n",
       "      <th>17</th>\n",
       "      <td>17.0</td>\n",
       "      <td>B</td>\n",
       "      <td>17.0</td>\n",
       "      <td>0.339</td>\n",
       "      <td>17.0</td>\n",
       "      <td>NaN</td>\n",
       "    </tr>\n",
       "    <tr>\n",
       "      <th>18</th>\n",
       "      <td>18.0</td>\n",
       "      <td>B</td>\n",
       "      <td>18.0</td>\n",
       "      <td>0.034</td>\n",
       "      <td>18.0</td>\n",
       "      <td>NaN</td>\n",
       "    </tr>\n",
       "    <tr>\n",
       "      <th>19</th>\n",
       "      <td>19.0</td>\n",
       "      <td>B</td>\n",
       "      <td>19.0</td>\n",
       "      <td>0.266</td>\n",
       "      <td>19.0</td>\n",
       "      <td>NaN</td>\n",
       "    </tr>\n",
       "  </tbody>\n",
       "</table>\n",
       "</div>"
      ],
      "text/plain": [
       "    Time Event  Count  VALUE[IN]    ID  Unnamed: 5\n",
       "0    0.0     A    1.0      0.000   0.0         NaN\n",
       "1    1.0     B    1.0      0.096   1.0         NaN\n",
       "2    2.0     B    2.0      0.833   2.0         NaN\n",
       "3    3.0     B    3.0      0.947   3.0         NaN\n",
       "4    4.0     B    4.0      0.035   4.0         NaN\n",
       "5    5.0     B    5.0      0.011   5.0         NaN\n",
       "6    6.0     B    6.0      0.051   6.0         NaN\n",
       "7    7.0     B    7.0      0.765   7.0         NaN\n",
       "8    8.0     B    8.0      0.584   8.0         NaN\n",
       "9    9.0     B    9.0      0.914   9.0         NaN\n",
       "10  10.0     B   10.0      0.783  10.0         NaN\n",
       "11  11.0     B   11.0      0.333  11.0         NaN\n",
       "12  12.0     B   12.0      0.195  12.0         NaN\n",
       "13  13.0     B   13.0      0.267  13.0         NaN\n",
       "14  14.0     B   14.0      0.792  14.0         NaN\n",
       "15  15.0     B   15.0      0.983  15.0         NaN\n",
       "16  16.0     B   16.0      0.148  16.0         NaN\n",
       "17  17.0     B   17.0      0.339  17.0         NaN\n",
       "18  18.0     B   18.0      0.034  18.0         NaN\n",
       "19  19.0     B   19.0      0.266  19.0         NaN"
      ]
     },
     "execution_count": 3,
     "metadata": {},
     "output_type": "execute_result"
    }
   ],
   "source": [
    "# first 20 of our 1000 RND values (VALUE[IN])\n",
    "df.head(20)"
   ]
  },
  {
   "cell_type": "code",
   "execution_count": 4,
   "metadata": {
    "collapsed": true
   },
   "outputs": [],
   "source": [
    "# x is our list of RND values and a subset of VALUE[IN]\n",
    "x = df['VALUE[IN]'].values[1:-1]"
   ]
  },
  {
   "cell_type": "code",
   "execution_count": 5,
   "metadata": {
    "collapsed": false
   },
   "outputs": [
    {
     "data": {
      "text/plain": [
       "1000"
      ]
     },
     "execution_count": 5,
     "metadata": {},
     "output_type": "execute_result"
    }
   ],
   "source": [
    "# number of RND's\n",
    "n = len(x)\n",
    "n"
   ]
  },
  {
   "cell_type": "code",
   "execution_count": 6,
   "metadata": {
    "collapsed": false
   },
   "outputs": [
    {
     "data": {
      "text/plain": [
       "0.49072699999999997"
      ]
     },
     "execution_count": 6,
     "metadata": {},
     "output_type": "execute_result"
    }
   ],
   "source": [
    "x.mean()"
   ]
  },
  {
   "cell_type": "code",
   "execution_count": 7,
   "metadata": {
    "collapsed": false
   },
   "outputs": [
    {
     "data": {
      "text/plain": [
       "0.28647867367572055"
      ]
     },
     "execution_count": 7,
     "metadata": {},
     "output_type": "execute_result"
    }
   ],
   "source": [
    "x.std()"
   ]
  },
  {
   "cell_type": "markdown",
   "metadata": {},
   "source": [
    "### Part B"
   ]
  },
  {
   "cell_type": "code",
   "execution_count": 8,
   "metadata": {
    "collapsed": true
   },
   "outputs": [],
   "source": [
    "# 20 intervals each of length .05\n",
    "k = 20"
   ]
  },
  {
   "cell_type": "code",
   "execution_count": 9,
   "metadata": {
    "collapsed": false
   },
   "outputs": [
    {
     "data": {
      "text/plain": [
       "array([ 0.  ,  0.05,  0.1 ,  0.15,  0.2 ,  0.25,  0.3 ,  0.35,  0.4 ,\n",
       "        0.45,  0.5 ,  0.55,  0.6 ,  0.65,  0.7 ,  0.75,  0.8 ,  0.85,\n",
       "        0.9 ,  0.95,  1.  ])"
      ]
     },
     "execution_count": 9,
     "metadata": {},
     "output_type": "execute_result"
    }
   ],
   "source": [
    "# between each entry is 1 bin (21 entries => 20 bins)\n",
    "bins = np.arange(k+1)/float(k)\n",
    "bins"
   ]
  },
  {
   "cell_type": "code",
   "execution_count": 10,
   "metadata": {
    "collapsed": false
   },
   "outputs": [
    {
     "data": {
      "text/plain": [
       "array([ 2, 17, 19,  1,  1,  2, 16, 12, 19, 16,  7,  4,  6, 16, 20,  3,  7,\n",
       "        1,  6,  4, 18,  5, 19,  5, 19, 19,  7, 13, 11,  4, 19,  7, 20, 19,\n",
       "       19,  2, 19, 18,  8,  3, 14, 12,  5,  4, 20,  7, 11, 15, 13, 10,  8,\n",
       "       12,  7, 15,  3, 11,  2, 12,  4, 14, 19,  7, 13, 10,  2,  3, 12,  2,\n",
       "        3,  9,  5,  5, 12,  2, 15, 12,  8,  6, 18,  4,  9, 13, 18, 20, 11,\n",
       "       15, 14,  5,  7,  9, 16, 11,  6,  8,  6, 13,  3,  9, 15,  1,  1,  9,\n",
       "       13, 10, 14,  2, 14,  1, 16, 15, 19, 14,  7,  4, 16, 20,  7,  9,  2,\n",
       "        3,  6, 16,  1, 10, 16, 15,  7, 14,  4,  1, 18, 14, 18,  5, 18, 10,\n",
       "        7,  6, 17, 13, 18, 11, 13, 19, 19,  5, 16, 14, 11, 15, 10, 15, 18,\n",
       "        1,  3,  7,  6, 15,  2, 19, 13, 12,  2,  3,  6,  4,  3,  5, 15,  7,\n",
       "       11,  7, 18,  7,  6,  3, 20, 19,  1, 16, 18, 13,  9, 11, 12,  5, 12,\n",
       "       13, 17,  7, 15,  1, 18, 16, 18,  9, 13,  4, 11, 18, 10, 15,  7,  6,\n",
       "       19, 13, 11, 14, 18,  4, 12,  5,  6, 15,  2, 13, 18,  4, 10, 14,  2,\n",
       "       20, 15, 17,  4,  1, 10, 18, 11, 17,  7,  6,  1,  8, 11, 14, 15,  4,\n",
       "       15, 10,  4,  9, 14,  2, 18,  5,  2,  5,  8, 17,  7, 18,  1, 20,  5,\n",
       "       16,  8, 11, 20, 13, 13,  8,  5,  2, 13,  2,  1,  5, 14,  1,  9,  9,\n",
       "       15, 10, 17,  9,  9, 17,  6,  5, 11, 14,  2,  1, 17, 11, 11,  2, 10,\n",
       "       12,  1,  4,  2, 15, 16, 15, 13, 12,  5,  9,  3,  1,  5, 14, 16, 20,\n",
       "        9,  7, 10, 16, 19, 20,  1, 15, 15,  9, 18,  1,  7, 10, 16,  3, 19,\n",
       "        3, 14, 19,  2,  7, 15, 17,  9,  9, 17, 12, 19, 16, 18,  4, 10, 14,\n",
       "        4,  3, 11, 14, 18, 20,  7,  7, 14,  2,  4,  9, 13, 13,  8, 13,  8,\n",
       "        9,  9,  2, 20, 12,  3, 12,  2, 17,  7, 15, 19, 18, 15,  6,  3, 13,\n",
       "        9,  6,  3,  7, 20, 18, 10,  4, 12,  9,  5, 11,  7, 12,  5,  6,  1,\n",
       "       16, 14,  6,  4, 13,  6, 20,  5,  8,  7, 13,  1, 12, 16,  4, 14,  5,\n",
       "       19,  1,  8,  8,  6,  5,  8,  9, 20, 12, 18, 15, 14, 10, 14,  6, 19,\n",
       "       12, 20, 17, 13, 13, 20,  8, 11,  2, 17, 10, 14,  8, 18, 16, 18,  9,\n",
       "        8,  5,  7,  7,  2,  6,  1,  8, 20, 13,  2, 10,  5,  8,  3, 11,  3,\n",
       "        9,  2, 16,  9, 17,  1,  3,  8, 13,  2,  1,  7,  9,  1,  9,  2, 19,\n",
       "       11,  3,  5, 20,  7, 20, 17, 20,  9, 15, 13,  4, 20, 15, 19, 11, 13,\n",
       "        4,  7, 20,  9, 10,  7, 13,  2, 15,  4, 19,  9,  8, 20,  5,  2,  7,\n",
       "        9,  7,  5, 17, 13, 11,  7, 11,  7, 18, 20,  5, 14, 17,  5,  6,  6,\n",
       "        4,  1, 15, 19, 14, 16, 19,  2, 10,  6, 19, 13,  5,  2, 11,  6, 18,\n",
       "       19, 13, 15,  6,  9, 11, 17, 19, 19, 12,  4, 19,  4, 18, 18,  5, 14,\n",
       "        8, 11,  4, 17,  6, 19,  5, 12, 14,  2,  6, 19, 19,  1, 16, 15, 13,\n",
       "       13, 18,  5, 12, 20,  8,  3, 15, 17, 19, 19,  2, 14, 16, 11, 15, 20,\n",
       "       19, 19, 18, 15,  3, 15,  7, 14,  9,  2, 16,  8,  6,  7, 13, 14,  6,\n",
       "        5, 14,  7, 19, 20, 11, 13, 20,  8,  1, 12, 15, 20, 12, 19,  4, 12,\n",
       "       14,  1,  9, 20,  5, 11, 10, 17, 10, 16, 18,  8, 19,  8, 10, 12,  4,\n",
       "        5,  6, 11,  3,  8, 12,  2, 19,  4, 16,  6, 12, 11,  3,  5,  1,  9,\n",
       "       10, 10,  1,  8, 16,  8,  2,  4,  7, 11,  8, 10,  4, 20,  3, 12, 12,\n",
       "        4,  7,  3, 18,  4, 18, 20,  5, 16,  5,  3, 15,  3, 10,  6, 10, 15,\n",
       "       15, 17,  3, 12,  1,  7,  4, 17,  1, 16, 12, 14, 17,  5, 18,  7, 17,\n",
       "        6,  3, 15,  7,  1,  4, 14, 15, 17,  2, 17,  9,  2,  4, 19, 11, 14,\n",
       "        5,  8, 18,  2, 18, 15,  1, 12, 17,  4, 11,  1,  9, 19, 14, 16, 12,\n",
       "       17, 19,  9,  3,  5, 10,  8, 16, 14, 17,  8,  1, 10,  1,  9, 17,  9,\n",
       "       16,  6, 17, 19,  5, 10, 19, 18, 13,  4,  7, 13, 16, 10, 13,  9,  1,\n",
       "       12, 11, 15, 13,  7, 19,  5,  5,  7, 10, 20, 12,  3, 11,  5, 10, 16,\n",
       "       14,  7, 15, 15,  1, 19, 17,  7, 17,  8, 15,  8,  9,  4,  6, 14, 20,\n",
       "       18,  2,  6, 12,  8, 20, 11,  5, 19,  8,  9,  2,  9,  2,  6, 16, 13,\n",
       "       12,  1, 10, 18,  1,  9,  3, 18,  8,  2, 10, 11,  7, 10,  5,  3,  8,\n",
       "       16, 17, 20,  8,  9, 10, 12,  9,  7,  6, 14, 20,  1, 16,  4, 12,  5,\n",
       "       20,  4,  5,  5,  6,  9,  9,  9, 16,  3,  4, 18, 10, 15, 13, 17, 16,\n",
       "       12,  5, 13, 17,  7,  2,  7,  3, 13, 18,  4, 20,  6,  2, 12, 10,  8,\n",
       "        1,  8, 16, 18,  7,  3, 20,  9, 16, 20, 13,  5, 12,  7, 15,  8,  8,\n",
       "       13,  8,  4, 12, 17,  6,  1,  9,  7, 17, 10,  9,  2, 19, 13, 20,  1,\n",
       "       15, 11,  3, 16, 14,  5, 11,  4,  9,  5, 13, 18, 14, 12,  8, 17, 10,\n",
       "       12,  6,  9,  4, 14, 15, 19,  4, 10,  1,  5,  1, 20,  7,  4, 11, 12,\n",
       "        7, 11,  7, 15, 18,  5, 16,  6,  7,  8,  4, 19,  1, 18, 15,  3,  2,\n",
       "        7, 10,  8,  7, 13,  2, 10,  1, 15,  8, 11, 10,  9, 14])"
      ]
     },
     "execution_count": 10,
     "metadata": {},
     "output_type": "execute_result"
    }
   ],
   "source": [
    "# determine which interval (bin) each x falls into\n",
    "binplace = np.digitize(x, bins)\n",
    "binplace"
   ]
  },
  {
   "cell_type": "code",
   "execution_count": 11,
   "metadata": {
    "collapsed": false
   },
   "outputs": [
    {
     "data": {
      "text/plain": [
       "array([53, 51, 41, 52, 59, 45, 65, 50, 58, 47, 45, 49, 51, 46, 54, 44, 41,\n",
       "       49, 55, 45])"
      ]
     },
     "execution_count": 11,
     "metadata": {},
     "output_type": "execute_result"
    }
   ],
   "source": [
    "# how many observations in each interval (no 0th interval so drop it)\n",
    "f = np.bincount(binplace)[1:]\n",
    "f"
   ]
  },
  {
   "cell_type": "code",
   "execution_count": 12,
   "metadata": {
    "collapsed": false
   },
   "outputs": [
    {
     "data": {
      "text/plain": [
       "array([ 0.18,  0.02,  1.62,  0.08,  1.62,  0.5 ,  4.5 ,  0.  ,  1.28,\n",
       "        0.18,  0.5 ,  0.02,  0.02,  0.32,  0.32,  0.72,  1.62,  0.02,\n",
       "        0.5 ,  0.5 ])"
      ]
     },
     "execution_count": 12,
     "metadata": {},
     "output_type": "execute_result"
    }
   ],
   "source": [
    "(f-n/k)**2/float(n/k)"
   ]
  },
  {
   "cell_type": "code",
   "execution_count": 13,
   "metadata": {
    "collapsed": false
   },
   "outputs": [
    {
     "data": {
      "text/plain": [
       "14.52"
      ]
     },
     "execution_count": 13,
     "metadata": {},
     "output_type": "execute_result"
    }
   ],
   "source": [
    "# chi-squared value\n",
    "X2 = ((f-n/k)**2/float(n/k)).sum()\n",
    "X2"
   ]
  },
  {
   "cell_type": "markdown",
   "metadata": {},
   "source": [
    "$H_{0}$: LCG is U[0,1]\n",
    "\n",
    "$H_{1}$: LCG is not U[0,1]\n",
    "\n",
    "For $\\alpha$ = .05 and k-1 degrees of freedom \n",
    "\n",
    "X2 = 14.52 $\\geq$ $\\chi^{2}_{1-\\alpha, k-1}$ = 10.12\n",
    "\n",
    "therefore, we reject $H_{0}$, the LCG is not U[0,1]\n",
    "\n",
    "Note: seed was 12345"
   ]
  },
  {
   "cell_type": "code",
   "execution_count": 14,
   "metadata": {
    "collapsed": false
   },
   "outputs": [
    {
     "data": {
      "text/plain": [
       "525.0"
      ]
     },
     "execution_count": 14,
     "metadata": {},
     "output_type": "execute_result"
    }
   ],
   "source": [
    "# if preceding RND was on opposite side of median from current RND\n",
    "# change its value to 1; else, change it to 0\n",
    "diffed = np.absolute(np.diff(np.sign(x-np.median(x)))/2)\n",
    "\n",
    "# count number of times we hop the median\n",
    "S = diffed[diffed!=0].sum()\n",
    "S"
   ]
  },
  {
   "cell_type": "code",
   "execution_count": 15,
   "metadata": {
    "collapsed": false
   },
   "outputs": [
    {
     "data": {
      "text/plain": [
       "1.0733126291998989"
      ]
     },
     "execution_count": 15,
     "metadata": {},
     "output_type": "execute_result"
    }
   ],
   "source": [
    "Z = (S-(1+n/2))/(n/2)**.5\n",
    "Z"
   ]
  },
  {
   "cell_type": "markdown",
   "metadata": {},
   "source": [
    "$H_{0}$: LCG is independent\n",
    "\n",
    "$H_{1}$: LCG is not independent\n",
    "\n",
    "For $\\alpha$ = .05\n",
    "\n",
    "Z = 1.07 $\\leq$ 2.81 = $Z_{\\alpha/2}$\n",
    "\n",
    "Therefore, we fail to reject $H_{0}$ and conclude LCG is independent"
   ]
  },
  {
   "cell_type": "markdown",
   "metadata": {
    "collapsed": true
   },
   "source": [
    "## Question 2"
   ]
  },
  {
   "cell_type": "markdown",
   "metadata": {},
   "source": [
    "### Part A"
   ]
  },
  {
   "cell_type": "code",
   "execution_count": 18,
   "metadata": {
    "collapsed": false
   },
   "outputs": [],
   "source": [
    "df = pd.read_csv('dice.csv')"
   ]
  },
  {
   "cell_type": "code",
   "execution_count": 27,
   "metadata": {
    "collapsed": false
   },
   "outputs": [
    {
     "data": {
      "text/html": [
       "<div>\n",
       "<table border=\"1\" class=\"dataframe\">\n",
       "  <thead>\n",
       "    <tr style=\"text-align: right;\">\n",
       "      <th></th>\n",
       "      <th>A[IN]</th>\n",
       "      <th>B[IN]</th>\n",
       "      <th>C[IN]</th>\n",
       "      <th>D[IN]</th>\n",
       "      <th>E[IN]</th>\n",
       "      <th>F[IN]</th>\n",
       "      <th>G[IN]</th>\n",
       "      <th>H[IN]</th>\n",
       "    </tr>\n",
       "  </thead>\n",
       "  <tbody>\n",
       "    <tr>\n",
       "      <th>1</th>\n",
       "      <td>1.0</td>\n",
       "      <td>7.0</td>\n",
       "      <td>6.0</td>\n",
       "      <td>1.0</td>\n",
       "      <td>3.0</td>\n",
       "      <td>4.0</td>\n",
       "      <td>7.0</td>\n",
       "      <td>5.0</td>\n",
       "    </tr>\n",
       "    <tr>\n",
       "      <th>2</th>\n",
       "      <td>9.0</td>\n",
       "      <td>7.0</td>\n",
       "      <td>3.0</td>\n",
       "      <td>2.0</td>\n",
       "      <td>3.0</td>\n",
       "      <td>5.0</td>\n",
       "      <td>9.0</td>\n",
       "      <td>2.0</td>\n",
       "    </tr>\n",
       "    <tr>\n",
       "      <th>3</th>\n",
       "      <td>4.0</td>\n",
       "      <td>2.0</td>\n",
       "      <td>2.0</td>\n",
       "      <td>2.0</td>\n",
       "      <td>8.0</td>\n",
       "      <td>5.0</td>\n",
       "      <td>9.0</td>\n",
       "      <td>3.0</td>\n",
       "    </tr>\n",
       "    <tr>\n",
       "      <th>4</th>\n",
       "      <td>9.0</td>\n",
       "      <td>7.0</td>\n",
       "      <td>2.0</td>\n",
       "      <td>4.0</td>\n",
       "      <td>5.0</td>\n",
       "      <td>5.0</td>\n",
       "      <td>9.0</td>\n",
       "      <td>4.0</td>\n",
       "    </tr>\n",
       "    <tr>\n",
       "      <th>5</th>\n",
       "      <td>9.0</td>\n",
       "      <td>7.0</td>\n",
       "      <td>6.0</td>\n",
       "      <td>1.0</td>\n",
       "      <td>8.0</td>\n",
       "      <td>5.0</td>\n",
       "      <td>5.0</td>\n",
       "      <td>2.0</td>\n",
       "    </tr>\n",
       "    <tr>\n",
       "      <th>6</th>\n",
       "      <td>9.0</td>\n",
       "      <td>5.0</td>\n",
       "      <td>2.0</td>\n",
       "      <td>2.0</td>\n",
       "      <td>8.0</td>\n",
       "      <td>5.0</td>\n",
       "      <td>7.0</td>\n",
       "      <td>8.0</td>\n",
       "    </tr>\n",
       "    <tr>\n",
       "      <th>7</th>\n",
       "      <td>4.0</td>\n",
       "      <td>5.0</td>\n",
       "      <td>3.0</td>\n",
       "      <td>4.0</td>\n",
       "      <td>3.0</td>\n",
       "      <td>5.0</td>\n",
       "      <td>1.0</td>\n",
       "      <td>5.0</td>\n",
       "    </tr>\n",
       "    <tr>\n",
       "      <th>8</th>\n",
       "      <td>1.0</td>\n",
       "      <td>5.0</td>\n",
       "      <td>2.0</td>\n",
       "      <td>5.0</td>\n",
       "      <td>8.0</td>\n",
       "      <td>5.0</td>\n",
       "      <td>7.0</td>\n",
       "      <td>4.0</td>\n",
       "    </tr>\n",
       "    <tr>\n",
       "      <th>9</th>\n",
       "      <td>1.0</td>\n",
       "      <td>2.0</td>\n",
       "      <td>3.0</td>\n",
       "      <td>1.0</td>\n",
       "      <td>3.0</td>\n",
       "      <td>5.0</td>\n",
       "      <td>5.0</td>\n",
       "      <td>3.0</td>\n",
       "    </tr>\n",
       "    <tr>\n",
       "      <th>10</th>\n",
       "      <td>4.0</td>\n",
       "      <td>2.0</td>\n",
       "      <td>6.0</td>\n",
       "      <td>4.0</td>\n",
       "      <td>5.0</td>\n",
       "      <td>5.0</td>\n",
       "      <td>9.0</td>\n",
       "      <td>3.0</td>\n",
       "    </tr>\n",
       "    <tr>\n",
       "      <th>11</th>\n",
       "      <td>4.0</td>\n",
       "      <td>5.0</td>\n",
       "      <td>6.0</td>\n",
       "      <td>6.0</td>\n",
       "      <td>5.0</td>\n",
       "      <td>5.0</td>\n",
       "      <td>7.0</td>\n",
       "      <td>3.0</td>\n",
       "    </tr>\n",
       "    <tr>\n",
       "      <th>12</th>\n",
       "      <td>1.0</td>\n",
       "      <td>5.0</td>\n",
       "      <td>6.0</td>\n",
       "      <td>4.0</td>\n",
       "      <td>3.0</td>\n",
       "      <td>5.0</td>\n",
       "      <td>5.0</td>\n",
       "      <td>5.0</td>\n",
       "    </tr>\n",
       "    <tr>\n",
       "      <th>13</th>\n",
       "      <td>1.0</td>\n",
       "      <td>5.0</td>\n",
       "      <td>6.0</td>\n",
       "      <td>1.0</td>\n",
       "      <td>3.0</td>\n",
       "      <td>5.0</td>\n",
       "      <td>7.0</td>\n",
       "      <td>4.0</td>\n",
       "    </tr>\n",
       "    <tr>\n",
       "      <th>14</th>\n",
       "      <td>9.0</td>\n",
       "      <td>2.0</td>\n",
       "      <td>6.0</td>\n",
       "      <td>1.0</td>\n",
       "      <td>7.0</td>\n",
       "      <td>5.0</td>\n",
       "      <td>9.0</td>\n",
       "      <td>8.0</td>\n",
       "    </tr>\n",
       "    <tr>\n",
       "      <th>15</th>\n",
       "      <td>4.0</td>\n",
       "      <td>2.0</td>\n",
       "      <td>6.0</td>\n",
       "      <td>6.0</td>\n",
       "      <td>5.0</td>\n",
       "      <td>5.0</td>\n",
       "      <td>1.0</td>\n",
       "      <td>2.0</td>\n",
       "    </tr>\n",
       "    <tr>\n",
       "      <th>16</th>\n",
       "      <td>1.0</td>\n",
       "      <td>7.0</td>\n",
       "      <td>2.0</td>\n",
       "      <td>3.0</td>\n",
       "      <td>7.0</td>\n",
       "      <td>5.0</td>\n",
       "      <td>5.0</td>\n",
       "      <td>8.0</td>\n",
       "    </tr>\n",
       "    <tr>\n",
       "      <th>17</th>\n",
       "      <td>1.0</td>\n",
       "      <td>2.0</td>\n",
       "      <td>6.0</td>\n",
       "      <td>5.0</td>\n",
       "      <td>8.0</td>\n",
       "      <td>5.0</td>\n",
       "      <td>9.0</td>\n",
       "      <td>4.0</td>\n",
       "    </tr>\n",
       "    <tr>\n",
       "      <th>18</th>\n",
       "      <td>1.0</td>\n",
       "      <td>2.0</td>\n",
       "      <td>6.0</td>\n",
       "      <td>4.0</td>\n",
       "      <td>8.0</td>\n",
       "      <td>5.0</td>\n",
       "      <td>7.0</td>\n",
       "      <td>8.0</td>\n",
       "    </tr>\n",
       "    <tr>\n",
       "      <th>19</th>\n",
       "      <td>9.0</td>\n",
       "      <td>2.0</td>\n",
       "      <td>6.0</td>\n",
       "      <td>5.0</td>\n",
       "      <td>5.0</td>\n",
       "      <td>5.0</td>\n",
       "      <td>5.0</td>\n",
       "      <td>8.0</td>\n",
       "    </tr>\n",
       "    <tr>\n",
       "      <th>20</th>\n",
       "      <td>9.0</td>\n",
       "      <td>2.0</td>\n",
       "      <td>2.0</td>\n",
       "      <td>2.0</td>\n",
       "      <td>3.0</td>\n",
       "      <td>5.0</td>\n",
       "      <td>1.0</td>\n",
       "      <td>8.0</td>\n",
       "    </tr>\n",
       "  </tbody>\n",
       "</table>\n",
       "</div>"
      ],
      "text/plain": [
       "    A[IN]  B[IN]  C[IN]  D[IN]  E[IN]  F[IN]  G[IN]  H[IN]\n",
       "1     1.0    7.0    6.0    1.0    3.0    4.0    7.0    5.0\n",
       "2     9.0    7.0    3.0    2.0    3.0    5.0    9.0    2.0\n",
       "3     4.0    2.0    2.0    2.0    8.0    5.0    9.0    3.0\n",
       "4     9.0    7.0    2.0    4.0    5.0    5.0    9.0    4.0\n",
       "5     9.0    7.0    6.0    1.0    8.0    5.0    5.0    2.0\n",
       "6     9.0    5.0    2.0    2.0    8.0    5.0    7.0    8.0\n",
       "7     4.0    5.0    3.0    4.0    3.0    5.0    1.0    5.0\n",
       "8     1.0    5.0    2.0    5.0    8.0    5.0    7.0    4.0\n",
       "9     1.0    2.0    3.0    1.0    3.0    5.0    5.0    3.0\n",
       "10    4.0    2.0    6.0    4.0    5.0    5.0    9.0    3.0\n",
       "11    4.0    5.0    6.0    6.0    5.0    5.0    7.0    3.0\n",
       "12    1.0    5.0    6.0    4.0    3.0    5.0    5.0    5.0\n",
       "13    1.0    5.0    6.0    1.0    3.0    5.0    7.0    4.0\n",
       "14    9.0    2.0    6.0    1.0    7.0    5.0    9.0    8.0\n",
       "15    4.0    2.0    6.0    6.0    5.0    5.0    1.0    2.0\n",
       "16    1.0    7.0    2.0    3.0    7.0    5.0    5.0    8.0\n",
       "17    1.0    2.0    6.0    5.0    8.0    5.0    9.0    4.0\n",
       "18    1.0    2.0    6.0    4.0    8.0    5.0    7.0    8.0\n",
       "19    9.0    2.0    6.0    5.0    5.0    5.0    5.0    8.0\n",
       "20    9.0    2.0    2.0    2.0    3.0    5.0    1.0    8.0"
      ]
     },
     "execution_count": 27,
     "metadata": {},
     "output_type": "execute_result"
    }
   ],
   "source": [
    "# remove all rows and columns that aren't values of dice rolls\n",
    "df = df.iloc[1:-1,3:-1]\n",
    "\n",
    "# show first 20 values\n",
    "df.head(20)"
   ]
  },
  {
   "cell_type": "code",
   "execution_count": 41,
   "metadata": {
    "collapsed": false
   },
   "outputs": [
    {
     "data": {
      "text/plain": [
       "array([[ 0.,  1.,  0., ...,  0.,  1.,  0.],\n",
       "       [ 1.,  0.,  0., ...,  0.,  1.,  0.],\n",
       "       [ 0.,  0.,  0., ...,  0.,  1.,  0.],\n",
       "       ..., \n",
       "       [ 0.,  0.,  0., ...,  0.,  0.,  1.],\n",
       "       [ 1.,  0.,  0., ...,  0.,  0.,  0.],\n",
       "       [ 1.,  0.,  0., ...,  0.,  0.,  0.]])"
      ]
     },
     "execution_count": 41,
     "metadata": {},
     "output_type": "execute_result"
    }
   ],
   "source": [
    "def my_func(x):\n",
    "    \"\"\"Flag largest elements in each row\"\"\"\n",
    "    x -= x.max()\n",
    "    x[x==0] = 1\n",
    "    x[x<0] = 0\n",
    "    return x\n",
    "\n",
    "values = df.values\n",
    "flags = np.apply_along_axis(my_func, 1, values)\n",
    "\n",
    "# the winners for each set of dice rolls have value 1; the rest are 0\n",
    "flags"
   ]
  },
  {
   "cell_type": "code",
   "execution_count": 43,
   "metadata": {
    "collapsed": false
   },
   "outputs": [
    {
     "data": {
      "text/plain": [
       "array([ 0.348,  0.105,  0.036,  0.032,  0.18 ,  0.041,  0.311,  0.208])"
      ]
     },
     "execution_count": 43,
     "metadata": {},
     "output_type": "execute_result"
    }
   ],
   "source": [
    "# proportion of time each die A (index 0) through H (index 7) win\n",
    "flags.sum(axis=0)/flags.shape[0]"
   ]
  },
  {
   "cell_type": "markdown",
   "metadata": {},
   "source": [
    "### Part B"
   ]
  },
  {
   "cell_type": "code",
   "execution_count": 51,
   "metadata": {
    "collapsed": false,
    "scrolled": true
   },
   "outputs": [
    {
     "data": {
      "text/plain": [
       "array([ 0.3570521 ,  0.04828463,  0.03939009,  0.02160102,  0.11054638,\n",
       "        0.0025413 ,  0.20965693,  0.21092757])"
      ]
     },
     "execution_count": 51,
     "metadata": {},
     "output_type": "execute_result"
    }
   ],
   "source": [
    "# proportion of time each die A (index 0) through H (index 7) win w/o tying\n",
    "\n",
    "# remove all rows with multiple winners\n",
    "no_ties = flags[flags.sum(axis=1)==1]\n",
    "\n",
    "no_ties.sum(axis=0)/no_ties.shape[0]"
   ]
  },
  {
   "cell_type": "markdown",
   "metadata": {},
   "source": [
    "### Part C"
   ]
  },
  {
   "cell_type": "code",
   "execution_count": 68,
   "metadata": {
    "collapsed": false
   },
   "outputs": [
    {
     "data": {
      "text/plain": [
       "array([ 0.175,  0.029,  0.008,  0.001])"
      ]
     },
     "execution_count": 68,
     "metadata": {},
     "output_type": "execute_result"
    }
   ],
   "source": [
    "# sum total number of winners for each row and return a count for number of\n",
    "# times we have n winners where n > 1\n",
    "(np.bincount(flags.sum(axis=1).astype(int))/float(flags.shape[0]))[2:]"
   ]
  },
  {
   "cell_type": "markdown",
   "metadata": {},
   "source": [
    "above array corresponds to 2, 3, 4, and 5 winners. We never saw more than 5 simultaneous winners."
   ]
  }
 ],
 "metadata": {
  "kernelspec": {
   "display_name": "Python 2",
   "language": "python",
   "name": "python2"
  },
  "language_info": {
   "codemirror_mode": {
    "name": "ipython",
    "version": 2
   },
   "file_extension": ".py",
   "mimetype": "text/x-python",
   "name": "python",
   "nbconvert_exporter": "python",
   "pygments_lexer": "ipython2",
   "version": "2.7.6"
  }
 },
 "nbformat": 4,
 "nbformat_minor": 1
}
